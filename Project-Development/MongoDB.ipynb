{
 "cells": [
  {
   "cell_type": "markdown",
   "metadata": {},
   "source": [
    "# Mongo DB"
   ]
  },
  {
   "cell_type": "markdown",
   "metadata": {},
   "source": [
    "#### Connect to Companies DataBase in MongoDB"
   ]
  },
  {
   "cell_type": "code",
   "execution_count": 1,
   "metadata": {},
   "outputs": [],
   "source": [
    "from pymongo import MongoClient\n",
    "\n",
    "dbName = \"companies\"\n",
    "mongodbURL = f\"mongodb://localhost/{dbName}\"\n",
    "\n",
    "client = MongoClient(mongodbURL, connectTimeoutMS=2000, serverSelectionTimeoutMS=2000)\n",
    "db = client.get_database()"
   ]
  },
  {
   "cell_type": "markdown",
   "metadata": {},
   "source": [
    "## Filters to find the ideal location - Nearby choices"
   ]
  },
  {
   "cell_type": "markdown",
   "metadata": {},
   "source": [
    "### 1. Design companies"
   ]
  },
  {
   "cell_type": "code",
   "execution_count": 2,
   "metadata": {},
   "outputs": [],
   "source": [
    "query = {\"category_code\":\"design\"}\n",
    "companies_design = list(db.companies.find(query,{\"offices\":1, \"name\":1}))"
   ]
  },
  {
   "cell_type": "code",
   "execution_count": 3,
   "metadata": {},
   "outputs": [
    {
     "data": {
      "text/html": [
       "<div>\n",
       "<style scoped>\n",
       "    .dataframe tbody tr th:only-of-type {\n",
       "        vertical-align: middle;\n",
       "    }\n",
       "\n",
       "    .dataframe tbody tr th {\n",
       "        vertical-align: top;\n",
       "    }\n",
       "\n",
       "    .dataframe thead th {\n",
       "        text-align: right;\n",
       "    }\n",
       "</style>\n",
       "<table border=\"1\" class=\"dataframe\">\n",
       "  <thead>\n",
       "    <tr style=\"text-align: right;\">\n",
       "      <th></th>\n",
       "      <th>_id</th>\n",
       "      <th>name</th>\n",
       "      <th>offices</th>\n",
       "    </tr>\n",
       "  </thead>\n",
       "  <tbody>\n",
       "    <tr>\n",
       "      <th>0</th>\n",
       "      <td>52cdef7c4bab8bd675298447</td>\n",
       "      <td>99designs</td>\n",
       "      <td>[{'description': 'United States (HQ)', 'addres...</td>\n",
       "    </tr>\n",
       "    <tr>\n",
       "      <th>1</th>\n",
       "      <td>52cdef7e4bab8bd67529ba4e</td>\n",
       "      <td>Graticle</td>\n",
       "      <td>[{'description': 'Office', 'address1': '100 E....</td>\n",
       "    </tr>\n",
       "    <tr>\n",
       "      <th>2</th>\n",
       "      <td>52cdef7e4bab8bd67529bd1a</td>\n",
       "      <td>Kickstarter</td>\n",
       "      <td>[{'description': '', 'address1': '58 Kent St',...</td>\n",
       "    </tr>\n",
       "    <tr>\n",
       "      <th>3</th>\n",
       "      <td>52cdef7f4bab8bd67529c47a</td>\n",
       "      <td>Moonfruit</td>\n",
       "      <td>[{'description': 'UK Office', 'address1': '', ...</td>\n",
       "    </tr>\n",
       "  </tbody>\n",
       "</table>\n",
       "</div>"
      ],
      "text/plain": [
       "                        _id         name  \\\n",
       "0  52cdef7c4bab8bd675298447    99designs   \n",
       "1  52cdef7e4bab8bd67529ba4e     Graticle   \n",
       "2  52cdef7e4bab8bd67529bd1a  Kickstarter   \n",
       "3  52cdef7f4bab8bd67529c47a    Moonfruit   \n",
       "\n",
       "                                             offices  \n",
       "0  [{'description': 'United States (HQ)', 'addres...  \n",
       "1  [{'description': 'Office', 'address1': '100 E....  \n",
       "2  [{'description': '', 'address1': '58 Kent St',...  \n",
       "3  [{'description': 'UK Office', 'address1': '', ...  "
      ]
     },
     "execution_count": 3,
     "metadata": {},
     "output_type": "execute_result"
    }
   ],
   "source": [
    "import pandas as pd\n",
    "\n",
    "df = pd.DataFrame(companies_design)\n",
    "df"
   ]
  },
  {
   "cell_type": "code",
   "execution_count": 4,
   "metadata": {},
   "outputs": [
    {
     "data": {
      "text/html": [
       "<div>\n",
       "<style scoped>\n",
       "    .dataframe tbody tr th:only-of-type {\n",
       "        vertical-align: middle;\n",
       "    }\n",
       "\n",
       "    .dataframe tbody tr th {\n",
       "        vertical-align: top;\n",
       "    }\n",
       "\n",
       "    .dataframe thead th {\n",
       "        text-align: right;\n",
       "    }\n",
       "</style>\n",
       "<table border=\"1\" class=\"dataframe\">\n",
       "  <thead>\n",
       "    <tr style=\"text-align: right;\">\n",
       "      <th></th>\n",
       "      <th>description</th>\n",
       "      <th>address1</th>\n",
       "      <th>address2</th>\n",
       "      <th>zip_code</th>\n",
       "      <th>city</th>\n",
       "      <th>state_code</th>\n",
       "      <th>country_code</th>\n",
       "      <th>latitude</th>\n",
       "      <th>longitude</th>\n",
       "    </tr>\n",
       "  </thead>\n",
       "  <tbody>\n",
       "    <tr>\n",
       "      <th>0</th>\n",
       "      <td>United States (HQ)</td>\n",
       "      <td>447 Battery St.</td>\n",
       "      <td>3rd Floor</td>\n",
       "      <td>94111</td>\n",
       "      <td>San Francisco</td>\n",
       "      <td>CA</td>\n",
       "      <td>USA</td>\n",
       "      <td>37.795531</td>\n",
       "      <td>-122.400598</td>\n",
       "    </tr>\n",
       "    <tr>\n",
       "      <th>0</th>\n",
       "      <td>Australia</td>\n",
       "      <td>204 Wellington St.</td>\n",
       "      <td></td>\n",
       "      <td>3065</td>\n",
       "      <td>Collingwood</td>\n",
       "      <td>None</td>\n",
       "      <td>AUS</td>\n",
       "      <td>-37.802659</td>\n",
       "      <td>144.986855</td>\n",
       "    </tr>\n",
       "    <tr>\n",
       "      <th>0</th>\n",
       "      <td>Europe</td>\n",
       "      <td>Schlesische Str. 29-30</td>\n",
       "      <td></td>\n",
       "      <td></td>\n",
       "      <td>Berlin</td>\n",
       "      <td>None</td>\n",
       "      <td>DEU</td>\n",
       "      <td>52.498620</td>\n",
       "      <td>13.446903</td>\n",
       "    </tr>\n",
       "    <tr>\n",
       "      <th>1</th>\n",
       "      <td>Office</td>\n",
       "      <td>100 E. Third Ave. #373</td>\n",
       "      <td></td>\n",
       "      <td>98926</td>\n",
       "      <td>Ellensburg</td>\n",
       "      <td>WA</td>\n",
       "      <td>USA</td>\n",
       "      <td>45.796841</td>\n",
       "      <td>-122.693144</td>\n",
       "    </tr>\n",
       "    <tr>\n",
       "      <th>2</th>\n",
       "      <td></td>\n",
       "      <td>58 Kent St</td>\n",
       "      <td></td>\n",
       "      <td>11222</td>\n",
       "      <td>Brooklyn</td>\n",
       "      <td>NY</td>\n",
       "      <td>USA</td>\n",
       "      <td>NaN</td>\n",
       "      <td>NaN</td>\n",
       "    </tr>\n",
       "    <tr>\n",
       "      <th>3</th>\n",
       "      <td>UK Office</td>\n",
       "      <td></td>\n",
       "      <td></td>\n",
       "      <td></td>\n",
       "      <td>London</td>\n",
       "      <td>None</td>\n",
       "      <td>GBR</td>\n",
       "      <td>NaN</td>\n",
       "      <td>NaN</td>\n",
       "    </tr>\n",
       "  </tbody>\n",
       "</table>\n",
       "</div>"
      ],
      "text/plain": [
       "          description                address1   address2 zip_code  \\\n",
       "0  United States (HQ)         447 Battery St.  3rd Floor    94111   \n",
       "0           Australia      204 Wellington St.                3065   \n",
       "0              Europe  Schlesische Str. 29-30                       \n",
       "1              Office  100 E. Third Ave. #373               98926   \n",
       "2                                  58 Kent St               11222   \n",
       "3           UK Office                                               \n",
       "\n",
       "            city state_code country_code   latitude   longitude  \n",
       "0  San Francisco         CA          USA  37.795531 -122.400598  \n",
       "0    Collingwood       None          AUS -37.802659  144.986855  \n",
       "0         Berlin       None          DEU  52.498620   13.446903  \n",
       "1     Ellensburg         WA          USA  45.796841 -122.693144  \n",
       "2       Brooklyn         NY          USA        NaN         NaN  \n",
       "3         London       None          GBR        NaN         NaN  "
      ]
     },
     "execution_count": 4,
     "metadata": {},
     "output_type": "execute_result"
    }
   ],
   "source": [
    "offices = df.explode(\"offices\").apply(lambda e: e.offices,axis=1,result_type=\"expand\")\n",
    "offices"
   ]
  },
  {
   "cell_type": "code",
   "execution_count": 5,
   "metadata": {},
   "outputs": [
    {
     "data": {
      "text/html": [
       "<div>\n",
       "<style scoped>\n",
       "    .dataframe tbody tr th:only-of-type {\n",
       "        vertical-align: middle;\n",
       "    }\n",
       "\n",
       "    .dataframe tbody tr th {\n",
       "        vertical-align: top;\n",
       "    }\n",
       "\n",
       "    .dataframe thead th {\n",
       "        text-align: right;\n",
       "    }\n",
       "</style>\n",
       "<table border=\"1\" class=\"dataframe\">\n",
       "  <thead>\n",
       "    <tr style=\"text-align: right;\">\n",
       "      <th></th>\n",
       "      <th>name</th>\n",
       "      <th>_id</th>\n",
       "      <th>description</th>\n",
       "      <th>address1</th>\n",
       "      <th>address2</th>\n",
       "      <th>zip_code</th>\n",
       "      <th>city</th>\n",
       "      <th>state_code</th>\n",
       "      <th>country_code</th>\n",
       "      <th>latitude</th>\n",
       "      <th>longitude</th>\n",
       "    </tr>\n",
       "  </thead>\n",
       "  <tbody>\n",
       "    <tr>\n",
       "      <th>0</th>\n",
       "      <td>99designs</td>\n",
       "      <td>52cdef7c4bab8bd675298447</td>\n",
       "      <td>United States (HQ)</td>\n",
       "      <td>447 Battery St.</td>\n",
       "      <td>3rd Floor</td>\n",
       "      <td>94111</td>\n",
       "      <td>San Francisco</td>\n",
       "      <td>CA</td>\n",
       "      <td>USA</td>\n",
       "      <td>37.795531</td>\n",
       "      <td>-122.400598</td>\n",
       "    </tr>\n",
       "    <tr>\n",
       "      <th>0</th>\n",
       "      <td>99designs</td>\n",
       "      <td>52cdef7c4bab8bd675298447</td>\n",
       "      <td>Australia</td>\n",
       "      <td>204 Wellington St.</td>\n",
       "      <td></td>\n",
       "      <td>3065</td>\n",
       "      <td>Collingwood</td>\n",
       "      <td>None</td>\n",
       "      <td>AUS</td>\n",
       "      <td>-37.802659</td>\n",
       "      <td>144.986855</td>\n",
       "    </tr>\n",
       "    <tr>\n",
       "      <th>0</th>\n",
       "      <td>99designs</td>\n",
       "      <td>52cdef7c4bab8bd675298447</td>\n",
       "      <td>Europe</td>\n",
       "      <td>Schlesische Str. 29-30</td>\n",
       "      <td></td>\n",
       "      <td></td>\n",
       "      <td>Berlin</td>\n",
       "      <td>None</td>\n",
       "      <td>DEU</td>\n",
       "      <td>52.498620</td>\n",
       "      <td>13.446903</td>\n",
       "    </tr>\n",
       "    <tr>\n",
       "      <th>1</th>\n",
       "      <td>Graticle</td>\n",
       "      <td>52cdef7e4bab8bd67529ba4e</td>\n",
       "      <td>Office</td>\n",
       "      <td>100 E. Third Ave. #373</td>\n",
       "      <td></td>\n",
       "      <td>98926</td>\n",
       "      <td>Ellensburg</td>\n",
       "      <td>WA</td>\n",
       "      <td>USA</td>\n",
       "      <td>45.796841</td>\n",
       "      <td>-122.693144</td>\n",
       "    </tr>\n",
       "    <tr>\n",
       "      <th>2</th>\n",
       "      <td>Kickstarter</td>\n",
       "      <td>52cdef7e4bab8bd67529bd1a</td>\n",
       "      <td></td>\n",
       "      <td>58 Kent St</td>\n",
       "      <td></td>\n",
       "      <td>11222</td>\n",
       "      <td>Brooklyn</td>\n",
       "      <td>NY</td>\n",
       "      <td>USA</td>\n",
       "      <td>NaN</td>\n",
       "      <td>NaN</td>\n",
       "    </tr>\n",
       "    <tr>\n",
       "      <th>3</th>\n",
       "      <td>Moonfruit</td>\n",
       "      <td>52cdef7f4bab8bd67529c47a</td>\n",
       "      <td>UK Office</td>\n",
       "      <td></td>\n",
       "      <td></td>\n",
       "      <td></td>\n",
       "      <td>London</td>\n",
       "      <td>None</td>\n",
       "      <td>GBR</td>\n",
       "      <td>NaN</td>\n",
       "      <td>NaN</td>\n",
       "    </tr>\n",
       "  </tbody>\n",
       "</table>\n",
       "</div>"
      ],
      "text/plain": [
       "          name                       _id         description  \\\n",
       "0    99designs  52cdef7c4bab8bd675298447  United States (HQ)   \n",
       "0    99designs  52cdef7c4bab8bd675298447           Australia   \n",
       "0    99designs  52cdef7c4bab8bd675298447              Europe   \n",
       "1     Graticle  52cdef7e4bab8bd67529ba4e              Office   \n",
       "2  Kickstarter  52cdef7e4bab8bd67529bd1a                       \n",
       "3    Moonfruit  52cdef7f4bab8bd67529c47a           UK Office   \n",
       "\n",
       "                 address1   address2 zip_code           city state_code  \\\n",
       "0         447 Battery St.  3rd Floor    94111  San Francisco         CA   \n",
       "0      204 Wellington St.                3065    Collingwood       None   \n",
       "0  Schlesische Str. 29-30                             Berlin       None   \n",
       "1  100 E. Third Ave. #373               98926     Ellensburg         WA   \n",
       "2              58 Kent St               11222       Brooklyn         NY   \n",
       "3                                                     London       None   \n",
       "\n",
       "  country_code   latitude   longitude  \n",
       "0          USA  37.795531 -122.400598  \n",
       "0          AUS -37.802659  144.986855  \n",
       "0          DEU  52.498620   13.446903  \n",
       "1          USA  45.796841 -122.693144  \n",
       "2          USA        NaN         NaN  \n",
       "3          GBR        NaN         NaN  "
      ]
     },
     "execution_count": 5,
     "metadata": {},
     "output_type": "execute_result"
    }
   ],
   "source": [
    "design_offices = pd.concat([df[[\"name\",\"_id\",]], offices], axis=1)\n",
    "design_offices"
   ]
  },
  {
   "cell_type": "code",
   "execution_count": 6,
   "metadata": {},
   "outputs": [
    {
     "data": {
      "text/html": [
       "<div>\n",
       "<style scoped>\n",
       "    .dataframe tbody tr th:only-of-type {\n",
       "        vertical-align: middle;\n",
       "    }\n",
       "\n",
       "    .dataframe tbody tr th {\n",
       "        vertical-align: top;\n",
       "    }\n",
       "\n",
       "    .dataframe thead th {\n",
       "        text-align: right;\n",
       "    }\n",
       "</style>\n",
       "<table border=\"1\" class=\"dataframe\">\n",
       "  <thead>\n",
       "    <tr style=\"text-align: right;\">\n",
       "      <th></th>\n",
       "      <th>name</th>\n",
       "      <th>_id</th>\n",
       "      <th>description</th>\n",
       "      <th>address1</th>\n",
       "      <th>address2</th>\n",
       "      <th>zip_code</th>\n",
       "      <th>city</th>\n",
       "      <th>state_code</th>\n",
       "      <th>country_code</th>\n",
       "      <th>latitude</th>\n",
       "      <th>longitude</th>\n",
       "    </tr>\n",
       "  </thead>\n",
       "  <tbody>\n",
       "    <tr>\n",
       "      <th>0</th>\n",
       "      <td>99designs</td>\n",
       "      <td>52cdef7c4bab8bd675298447</td>\n",
       "      <td>United States (HQ)</td>\n",
       "      <td>447 Battery St.</td>\n",
       "      <td>3rd Floor</td>\n",
       "      <td>94111</td>\n",
       "      <td>San Francisco</td>\n",
       "      <td>CA</td>\n",
       "      <td>USA</td>\n",
       "      <td>37.795531</td>\n",
       "      <td>-122.400598</td>\n",
       "    </tr>\n",
       "    <tr>\n",
       "      <th>1</th>\n",
       "      <td>Graticle</td>\n",
       "      <td>52cdef7e4bab8bd67529ba4e</td>\n",
       "      <td>Office</td>\n",
       "      <td>100 E. Third Ave. #373</td>\n",
       "      <td></td>\n",
       "      <td>98926</td>\n",
       "      <td>Ellensburg</td>\n",
       "      <td>WA</td>\n",
       "      <td>USA</td>\n",
       "      <td>45.796841</td>\n",
       "      <td>-122.693144</td>\n",
       "    </tr>\n",
       "    <tr>\n",
       "      <th>2</th>\n",
       "      <td>Kickstarter</td>\n",
       "      <td>52cdef7e4bab8bd67529bd1a</td>\n",
       "      <td></td>\n",
       "      <td>58 Kent St</td>\n",
       "      <td></td>\n",
       "      <td>11222</td>\n",
       "      <td>Brooklyn</td>\n",
       "      <td>NY</td>\n",
       "      <td>USA</td>\n",
       "      <td>NaN</td>\n",
       "      <td>NaN</td>\n",
       "    </tr>\n",
       "  </tbody>\n",
       "</table>\n",
       "</div>"
      ],
      "text/plain": [
       "          name                       _id         description  \\\n",
       "0    99designs  52cdef7c4bab8bd675298447  United States (HQ)   \n",
       "1     Graticle  52cdef7e4bab8bd67529ba4e              Office   \n",
       "2  Kickstarter  52cdef7e4bab8bd67529bd1a                       \n",
       "\n",
       "                 address1   address2 zip_code           city state_code  \\\n",
       "0         447 Battery St.  3rd Floor    94111  San Francisco         CA   \n",
       "1  100 E. Third Ave. #373               98926     Ellensburg         WA   \n",
       "2              58 Kent St               11222       Brooklyn         NY   \n",
       "\n",
       "  country_code   latitude   longitude  \n",
       "0          USA  37.795531 -122.400598  \n",
       "1          USA  45.796841 -122.693144  \n",
       "2          USA        NaN         NaN  "
      ]
     },
     "execution_count": 6,
     "metadata": {},
     "output_type": "execute_result"
    }
   ],
   "source": [
    "clean_offices = design_offices.loc[design_offices[\"country_code\"] == \"USA\"]\n",
    "clean_offices"
   ]
  },
  {
   "cell_type": "code",
   "execution_count": 7,
   "metadata": {},
   "outputs": [],
   "source": [
    "import requests\n",
    "def geocode(address):\n",
    "    res = requests.get(f\"https://geocode.xyz/{address}\", params={\"json\":1})\n",
    "    data = res.json()\n",
    "    print(data)\n",
    "    return {\n",
    "        \"type\":\"Point\",\n",
    "        \"coordinates\":[float(data[\"longt\"]),float(data[\"latt\"])]\n",
    "    }"
   ]
  },
  {
   "cell_type": "code",
   "execution_count": 8,
   "metadata": {},
   "outputs": [
    {
     "name": "stdout",
     "output_type": "stream",
     "text": [
      "{'longt': '0.00000', 'standard': {'addresst': {}, 'prov': 'ST', 'city': {}, 'countryname': 'Sao Tome and Principe', 'postal': {}, 'confidence': '0.90'}, 'matches': None, 'alt': {}, 'error': {'description': '15. Your request did not produce any results.', 'code': '008'}, 'suggestion': {'region': 'ST', 'locate': {}}, 'latt': '0.00000'}\n"
     ]
    },
    {
     "data": {
      "text/plain": [
       "{'type': 'Point', 'coordinates': [0.0, 0.0]}"
      ]
     },
     "execution_count": 8,
     "metadata": {},
     "output_type": "execute_result"
    }
   ],
   "source": [
    "geocode(\"58 Kent St\")"
   ]
  },
  {
   "cell_type": "code",
   "execution_count": 9,
   "metadata": {},
   "outputs": [
    {
     "name": "stdout",
     "output_type": "stream",
     "text": [
      "{'standard': {'addresst': '36 Linksmoji g', 'stnumber': '36', 'region': 'MM', 'postal': '11222', 'city': 'Vilnius', 'prov': 'LT', 'countryname': 'Lithuania', 'confidence': '0.25'}, 'longt': '25.43190', 'alt': {'loc': [{'staddress': '1 ဖဆပလအိမ်ယာ', 'stnumber': {}, 'postal': '11222', 'region': {}, 'latt': '16.78718', 'longt': '96.15988', 'city': 'Yangon', 'prov': 'MM', 'countryname': 'Myanmar'}, {'staddress': {}, 'stnumber': {}, 'postal': '11222', 'region': 'MM', 'latt': '59.32864', 'longt': '18.03730', 'city': 'Stockholm', 'prov': 'SE', 'countryname': 'Sweden'}, {'staddress': '162 Nawala Road', 'stnumber': {}, 'postal': '11222', 'region': 'MM', 'latt': '6.88238', 'longt': '79.88899', 'city': 'Nugegoda', 'prov': 'LK', 'countryname': 'Sri Lanka'}, {'staddress': '69 Саве Јовановића', 'stnumber': {}, 'postal': '11222', 'region': 'MM', 'latt': '44.74194', 'longt': '20.48691', 'city': 'Rušanj', 'prov': 'RS', 'countryname': 'Serbia'}, {'staddress': '981 JAVIER DE VIANA', 'stnumber': {}, 'postal': '11222', 'region': 'MM', 'latt': '-34.91083', 'longt': '-56.16816', 'city': 'Montevideo', 'prov': 'UY', 'countryname': 'Uruguay'}, {'staddress': '36 Linksmoji g', 'stnumber': {}, 'postal': '11222', 'region': 'MM', 'latt': '54.68773', 'longt': '25.43190', 'city': 'Vilnius', 'prov': 'LT', 'countryname': 'Lithuania'}]}, 'elevation': {}, 'latt': '54.68773'}\n"
     ]
    },
    {
     "data": {
      "text/plain": [
       "{'type': 'Point', 'coordinates': [25.4319, 54.68773]}"
      ]
     },
     "execution_count": 9,
     "metadata": {},
     "output_type": "execute_result"
    }
   ],
   "source": [
    "geocode(11222)"
   ]
  },
  {
   "cell_type": "code",
   "execution_count": 10,
   "metadata": {},
   "outputs": [
    {
     "name": "stderr",
     "output_type": "stream",
     "text": [
      "/usr/local/lib/python3.7/site-packages/ipykernel_launcher.py:12: SettingWithCopyWarning: \n",
      "A value is trying to be set on a copy of a slice from a DataFrame.\n",
      "Try using .loc[row_indexer,col_indexer] = value instead\n",
      "\n",
      "See the caveats in the documentation: https://pandas.pydata.org/pandas-docs/stable/user_guide/indexing.html#returning-a-view-versus-a-copy\n",
      "  if sys.path[0] == '':\n"
     ]
    }
   ],
   "source": [
    "import numpy as np\n",
    "\n",
    "def transformToGeoPoint(s):\n",
    "    if np.isnan(s.latitude) or np.isnan(s.longitude):\n",
    "        return None\n",
    "    return {\n",
    "        \"type\":\"Point\",\n",
    "        \"coordinates\":[s.longitude, s.latitude]\n",
    "    }\n",
    "    \n",
    "\n",
    "clean_offices[\"geopoint\"] = clean_offices.apply(transformToGeoPoint, axis=1)"
   ]
  },
  {
   "cell_type": "code",
   "execution_count": 11,
   "metadata": {},
   "outputs": [
    {
     "data": {
      "text/html": [
       "<div>\n",
       "<style scoped>\n",
       "    .dataframe tbody tr th:only-of-type {\n",
       "        vertical-align: middle;\n",
       "    }\n",
       "\n",
       "    .dataframe tbody tr th {\n",
       "        vertical-align: top;\n",
       "    }\n",
       "\n",
       "    .dataframe thead th {\n",
       "        text-align: right;\n",
       "    }\n",
       "</style>\n",
       "<table border=\"1\" class=\"dataframe\">\n",
       "  <thead>\n",
       "    <tr style=\"text-align: right;\">\n",
       "      <th></th>\n",
       "      <th>name</th>\n",
       "      <th>_id</th>\n",
       "      <th>description</th>\n",
       "      <th>address1</th>\n",
       "      <th>address2</th>\n",
       "      <th>zip_code</th>\n",
       "      <th>city</th>\n",
       "      <th>state_code</th>\n",
       "      <th>country_code</th>\n",
       "      <th>latitude</th>\n",
       "      <th>longitude</th>\n",
       "      <th>geopoint</th>\n",
       "    </tr>\n",
       "  </thead>\n",
       "  <tbody>\n",
       "    <tr>\n",
       "      <th>0</th>\n",
       "      <td>99designs</td>\n",
       "      <td>52cdef7c4bab8bd675298447</td>\n",
       "      <td>United States (HQ)</td>\n",
       "      <td>447 Battery St.</td>\n",
       "      <td>3rd Floor</td>\n",
       "      <td>94111</td>\n",
       "      <td>San Francisco</td>\n",
       "      <td>CA</td>\n",
       "      <td>USA</td>\n",
       "      <td>37.795531</td>\n",
       "      <td>-122.400598</td>\n",
       "      <td>{'type': 'Point', 'coordinates': [-122.4005983...</td>\n",
       "    </tr>\n",
       "    <tr>\n",
       "      <th>1</th>\n",
       "      <td>Graticle</td>\n",
       "      <td>52cdef7e4bab8bd67529ba4e</td>\n",
       "      <td>Office</td>\n",
       "      <td>100 E. Third Ave. #373</td>\n",
       "      <td></td>\n",
       "      <td>98926</td>\n",
       "      <td>Ellensburg</td>\n",
       "      <td>WA</td>\n",
       "      <td>USA</td>\n",
       "      <td>45.796841</td>\n",
       "      <td>-122.693144</td>\n",
       "      <td>{'type': 'Point', 'coordinates': [-122.6931439...</td>\n",
       "    </tr>\n",
       "    <tr>\n",
       "      <th>2</th>\n",
       "      <td>Kickstarter</td>\n",
       "      <td>52cdef7e4bab8bd67529bd1a</td>\n",
       "      <td></td>\n",
       "      <td>58 Kent St</td>\n",
       "      <td></td>\n",
       "      <td>11222</td>\n",
       "      <td>Brooklyn</td>\n",
       "      <td>NY</td>\n",
       "      <td>USA</td>\n",
       "      <td>NaN</td>\n",
       "      <td>NaN</td>\n",
       "      <td>None</td>\n",
       "    </tr>\n",
       "  </tbody>\n",
       "</table>\n",
       "</div>"
      ],
      "text/plain": [
       "          name                       _id         description  \\\n",
       "0    99designs  52cdef7c4bab8bd675298447  United States (HQ)   \n",
       "1     Graticle  52cdef7e4bab8bd67529ba4e              Office   \n",
       "2  Kickstarter  52cdef7e4bab8bd67529bd1a                       \n",
       "\n",
       "                 address1   address2 zip_code           city state_code  \\\n",
       "0         447 Battery St.  3rd Floor    94111  San Francisco         CA   \n",
       "1  100 E. Third Ave. #373               98926     Ellensburg         WA   \n",
       "2              58 Kent St               11222       Brooklyn         NY   \n",
       "\n",
       "  country_code   latitude   longitude  \\\n",
       "0          USA  37.795531 -122.400598   \n",
       "1          USA  45.796841 -122.693144   \n",
       "2          USA        NaN         NaN   \n",
       "\n",
       "                                            geopoint  \n",
       "0  {'type': 'Point', 'coordinates': [-122.4005983...  \n",
       "1  {'type': 'Point', 'coordinates': [-122.6931439...  \n",
       "2                                               None  "
      ]
     },
     "execution_count": 11,
     "metadata": {},
     "output_type": "execute_result"
    }
   ],
   "source": [
    "clean_offices"
   ]
  },
  {
   "cell_type": "markdown",
   "metadata": {},
   "source": [
    "### 2. Successful tech startups"
   ]
  },
  {
   "cell_type": "code",
   "execution_count": 19,
   "metadata": {},
   "outputs": [],
   "source": [
    "query = {\n",
    "    \"$or\":[\n",
    "        {\"total_money_raised\":{\"$regex\": \"M$\"}},\n",
    "        {\"total_money_raised\":{\"$regex\": \"B$\"}}\n",
    "    ]\n",
    "}\n",
    "successful_companies = list(db.companies.find(\n",
    "    query,{\"offices\":1, \"name\":1}))"
   ]
  },
  {
   "cell_type": "code",
   "execution_count": 21,
   "metadata": {},
   "outputs": [
    {
     "data": {
      "text/plain": [
       "4042"
      ]
     },
     "execution_count": 21,
     "metadata": {},
     "output_type": "execute_result"
    }
   ],
   "source": [
    "len(successful_companies)"
   ]
  },
  {
   "cell_type": "code",
   "execution_count": 23,
   "metadata": {},
   "outputs": [
    {
     "name": "stdout",
     "output_type": "stream",
     "text": [
      "[0, 1, 2, 3, 4]\n"
     ]
    }
   ],
   "source": [
    "print(list(range(5)))"
   ]
  },
  {
   "cell_type": "code",
   "execution_count": 28,
   "metadata": {},
   "outputs": [
    {
     "name": "stdout",
     "output_type": "stream",
     "text": [
      "[0, 1]\n",
      "[0, 1]\n",
      "[0, 1]\n",
      "[0, 1]\n",
      "[0, 1]\n"
     ]
    }
   ],
   "source": [
    "a=list(range(5))\n",
    "for i in a:\n",
    "    print(a[:2])"
   ]
  },
  {
   "cell_type": "code",
   "execution_count": null,
   "metadata": {},
   "outputs": [],
   "source": []
  }
 ],
 "metadata": {
  "kernelspec": {
   "display_name": "Python 3",
   "language": "python",
   "name": "python3"
  },
  "language_info": {
   "codemirror_mode": {
    "name": "ipython",
    "version": 3
   },
   "file_extension": ".py",
   "mimetype": "text/x-python",
   "name": "python",
   "nbconvert_exporter": "python",
   "pygments_lexer": "ipython3",
   "version": "3.7.7"
  }
 },
 "nbformat": 4,
 "nbformat_minor": 4
}
